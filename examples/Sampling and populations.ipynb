{
 "cells": [
  {
   "cell_type": "code",
   "execution_count": null,
   "metadata": {},
   "outputs": [],
   "source": [
    "import numpy as np\n",
    "import pandas as pd\n",
    "%matplotlib inline"
   ]
  },
  {
   "cell_type": "code",
   "execution_count": null,
   "metadata": {},
   "outputs": [],
   "source": [
    "# This takes a sample of 100 numbers\n",
    "# What is the population the sample is taken from?\n",
    "pd.DataFrame(np.random.sample(100)).plot.hist()"
   ]
  },
  {
   "cell_type": "code",
   "execution_count": null,
   "metadata": {},
   "outputs": [],
   "source": [
    "# Using the same sample as above, calculate the mean of the sample\n",
    "# Is that mean representative? Why/why not?"
   ]
  },
  {
   "cell_type": "raw",
   "metadata": {},
   "source": [
    "# In Pandas you can remove elements with a predicate like so\n",
    "sample = pd.DataFrame(np.random.sample(100))\n",
    "sample[sample[0] > 2]\n",
    "# This will take the first column (index 0) and ask if the number in the first column is > 2\n",
    "# In other words this will give us all the numbers above 2 (as you can see no numbers are above 2)"
   ]
  },
  {
   "cell_type": "code",
   "execution_count": null,
   "metadata": {},
   "outputs": [],
   "source": [
    "# Create and plot a sample that is _not_ representative\n",
    "# Why is it not representative?"
   ]
  },
  {
   "cell_type": "code",
   "execution_count": null,
   "metadata": {},
   "outputs": [],
   "source": [
    "# Create 10000 samples with 100 numbers using `np.random.sample`\n",
    "samples = ..."
   ]
  },
  {
   "cell_type": "code",
   "execution_count": null,
   "metadata": {},
   "outputs": [],
   "source": [
    "# Calculate the mean of each of these samples\n",
    "# The `means` variable should be a list of 10000 mean values\n",
    "means = ..."
   ]
  },
  {
   "cell_type": "code",
   "execution_count": null,
   "metadata": {},
   "outputs": [],
   "source": [
    "# Convert the list of means into a pd.DataFrame\n",
    "mean_frame = ..."
   ]
  },
  {
   "cell_type": "code",
   "execution_count": null,
   "metadata": {},
   "outputs": [],
   "source": [
    "# Plot all the mean values below using Pandas `hist(bins=100)`"
   ]
  }
 ],
 "metadata": {
  "kernelspec": {
   "display_name": "Python 3",
   "language": "python",
   "name": "python3"
  },
  "language_info": {
   "codemirror_mode": {
    "name": "ipython",
    "version": 3
   },
   "file_extension": ".py",
   "mimetype": "text/x-python",
   "name": "python",
   "nbconvert_exporter": "python",
   "pygments_lexer": "ipython3",
   "version": "3.5.3"
  }
 },
 "nbformat": 4,
 "nbformat_minor": 2
}
