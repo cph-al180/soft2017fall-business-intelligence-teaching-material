{
 "cells": [
  {
   "cell_type": "code",
   "execution_count": null,
   "metadata": {},
   "outputs": [],
   "source": [
    "import pandas as pd\n",
    "import numpy as np\n",
    "%matplotlib inline"
   ]
  },
  {
   "cell_type": "code",
   "execution_count": null,
   "metadata": {},
   "outputs": [],
   "source": [
    "# First we have to download our dataset\n",
    "# This contains a list of restaurants and their prices\n",
    "url = 'https://raw.github.com/gjreda/best-sandwiches/master/data/best-sandwiches-geocode.tsv'\n",
    "\n",
    "# fetch the text from the URL and read it into a DataFrame\n",
    "data = pd.read_table(url, sep='\\t')\n",
    "data.head(3)"
   ]
  },
  {
   "cell_type": "code",
   "execution_count": null,
   "metadata": {},
   "outputs": [],
   "source": [
    "# This is where you live - you want pizzas close to this location!\n",
    "my_position = (41.906937, -87.682965)"
   ]
  },
  {
   "cell_type": "code",
   "execution_count": null,
   "metadata": {},
   "outputs": [],
   "source": [
    "# Using folium you can plot your location on the map\n",
    "# See Helges slides for more information about folium\n",
    "# https://github.com/datsoftlyngby/soft2017fall-business-intelligence-teaching-material/blob/master/lecture_notes/09-Data%20Visualization.ipynb\n",
    "import folium\n",
    "\n",
    "my_map = folium.Map(location=[41.906937, -87.682965], zoom_start=11)\n",
    "folium.Marker(location=my_position, icon=folium.Icon(color='red', icon='home')).add_to(my_map)\n",
    "my_map"
   ]
  },
  {
   "cell_type": "code",
   "execution_count": null,
   "metadata": {},
   "outputs": [],
   "source": [
    "# Now plot all the pizza places on the map\n",
    "# You can do that with the folium.Marker() construct as above\n",
    "# Hint: use the popop to have a nice popup with the price :-)"
   ]
  },
  {
   "cell_type": "code",
   "execution_count": null,
   "metadata": {},
   "outputs": [],
   "source": [
    "# Now we want to have an overview of the situation\n",
    "# For geospatial data, heatmaps are ideal\n",
    "# To have a heatmap you need two coordinates, and a\n",
    "# third number, indicating how \"hot\" the area is\n",
    "# In our case, we want to use price as \"hotness\"\n",
    "# So, create triplets of (x, y, price)\n",
    "\n",
    "# Unfortunately the price is a string. Normally\n",
    "# you can convert it to a float like this:\n",
    "# data.price.astype(float)\n",
    "# But the string contains nasty symbols like $ and .\n",
    "# Hint: You can use str.strip() to remove them\n",
    "# https://www.tutorialspoint.com/python/string_strip.htm"
   ]
  },
  {
   "cell_type": "code",
   "execution_count": null,
   "metadata": {},
   "outputs": [],
   "source": [
    "# Now that you have your triplets, let's import\n",
    "# the heatmap library\n",
    "from folium.plugins import HeatMap"
   ]
  },
  {
   "cell_type": "code",
   "execution_count": null,
   "metadata": {},
   "outputs": [],
   "source": [
    "# If you've collected all your values in a pandas\n",
    "# DataFrame, you can create and add the heatmap like this:\n",
    "HeatMap(heat_data.values.tolist()).add_to(my_map)"
   ]
  },
  {
   "cell_type": "code",
   "execution_count": null,
   "metadata": {},
   "outputs": [],
   "source": [
    "# Now show the map!"
   ]
  },
  {
   "cell_type": "code",
   "execution_count": null,
   "metadata": {},
   "outputs": [],
   "source": [
    "# Let's find the distance from each pizza place\n",
    "# to your home. This uses the haversine distance that Helge\n",
    "# described here: https://github.com/datsoftlyngby/soft2017fall-business-intelligence-teaching-material/blob/master/lecture_notes/09-Data%20Visualization.ipynb\n",
    "import math\n",
    "def haversine_distance(origin, destination):\n",
    "\n",
    "    lat_orig, lon_orig = origin\n",
    "    lat_dest, lon_dest = destination\n",
    "    radius = 6371\n",
    "\n",
    "    dlat = math.radians(lat_dest-lat_orig)\n",
    "    dlon = math.radians(lon_dest-lon_orig)\n",
    "    a = (math.sin(dlat / 2) * math.sin(dlat / 2) + math.cos(math.radians(lat_orig)) \n",
    "        * math.cos(math.radians(lat_dest)) * math.sin(dlon / 2) * math.sin(dlon / 2))\n",
    "    c = 2 * math.atan2(math.sqrt(a), math.sqrt(1 - a))\n",
    "    d = radius * c\n",
    "\n",
    "    return d"
   ]
  },
  {
   "cell_type": "code",
   "execution_count": null,
   "metadata": {},
   "outputs": [],
   "source": [
    "# First you have to compile the distances from the haversine\n",
    "# distance function above"
   ]
  },
  {
   "cell_type": "code",
   "execution_count": null,
   "metadata": {},
   "outputs": [],
   "source": [
    "# Now that you have the distances, try to plot them.\n",
    "# Use the distance as the x axis and the price as the y axis"
   ]
  },
  {
   "cell_type": "code",
   "execution_count": null,
   "metadata": {},
   "outputs": [],
   "source": [
    "# Finally, from your data, find the place with the best\n",
    "# price that is closest to you. Before you can do that\n",
    "# you have to find out how you would measure that."
   ]
  },
  {
   "cell_type": "code",
   "execution_count": null,
   "metadata": {},
   "outputs": [],
   "source": [
    "# When you decided how to measure that, try to create a\n",
    "# heat map triplet like above. Only this time your \"hotness\"\n",
    "# is your measure for price/distance.\n",
    "# How does it look? What does it tell you?"
   ]
  }
 ],
 "metadata": {
  "kernelspec": {
   "display_name": "Python 3",
   "language": "python",
   "name": "python3"
  },
  "language_info": {
   "codemirror_mode": {
    "name": "ipython",
    "version": 3
   },
   "file_extension": ".py",
   "mimetype": "text/x-python",
   "name": "python",
   "nbconvert_exporter": "python",
   "pygments_lexer": "ipython3",
   "version": "3.5.3"
  }
 },
 "nbformat": 4,
 "nbformat_minor": 2
}
